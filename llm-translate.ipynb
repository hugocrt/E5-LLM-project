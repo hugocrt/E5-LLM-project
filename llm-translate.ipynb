{
 "metadata": {
  "kernelspec": {
   "display_name": "Python 3",
   "language": "python",
   "name": "python3"
  },
  "language_info": {
   "name": "python",
   "version": "3.10.12",
   "mimetype": "text/x-python",
   "codemirror_mode": {
    "name": "ipython",
    "version": 3
   },
   "pygments_lexer": "ipython3",
   "nbconvert_exporter": "python",
   "file_extension": ".py"
  },
  "kaggle": {
   "accelerator": "nvidiaTeslaT4",
   "dataSources": [
    {
     "sourceId": 10755955,
     "sourceType": "datasetVersion",
     "datasetId": 6671320
    },
    {
     "sourceId": 10758442,
     "sourceType": "datasetVersion",
     "datasetId": 6673220
    }
   ],
   "dockerImageVersionId": 30887,
   "isInternetEnabled": true,
   "language": "python",
   "sourceType": "notebook",
   "isGpuEnabled": true
  }
 },
 "nbformat_minor": 5,
 "nbformat": 4,
 "cells": [
  {
   "id": "c4f47146ccd79ff3",
   "cell_type": "markdown",
   "source": [
    "# Projet Final de LLM - CARANGEOT Hugo, CONTE-DEVOLX Titouan - E5DSIA - 2024/2025 - ESIEE Paris"
   ],
   "metadata": {
    "collapsed": false
   }
  },
  {
   "id": "ce6fc8fee8283eb4",
   "cell_type": "markdown",
   "source": [
    "Dans un premier temps, rappelons rapidement le projet encadré par Monsieur Badr TAJINI, dans le cadre de l'unité LLM en 5ᵉ année d'ESIEE Paris.\n",
    "\n",
    "\"\n",
    "**Project Summary**\n",
    "This final project focuses on creating a basic AI assistant capable of following everyday instructions, built on\n",
    "a GPT-2 model that is instruction-fine-tuned. The goal is to practice transforming a pretrained LLM (like\n",
    "GPT-2) into a system that can respond effectively to various daily queries and tasks (e.g., scheduling\n",
    "reminders, giving recipe suggestions, generating short emails).\n",
    "You will leverage their understanding of pretraining, fine-tuning, and, most importantly, instruction-based\n",
    "fine-tuning developed across the course (Chapters 5, 6, and 7). The project also draws on the methodology\n",
    "seen in Labs 6-7, where a dataset was prepared for supervised instruction fine-tuning using an Alpaca-style\n",
    "prompt format. By the end of this project, you will have a working prototype of a GPT-2–based assistant,\n",
    "demonstrating how instruction fine-tuning can dramatically improve the model’s ability to follow user\n",
    "commands and prompts\n",
    "\" *(c.f. final-project-llms-2025.md, Teams)*"
   ],
   "metadata": {
    "collapsed": false
   }
  },
  {
   "id": "eee7ce0ed49b5589",
   "cell_type": "markdown",
   "source": [
    "Nous allons suivre étape par étape les consignes pour ce notebook, à savoir : \n",
    "\n",
    "1) *'Environment Setup & Base Model Initialization'*\n",
    "2) *'Instruction Dataset Preparation'*\n",
    "3) *'Instruction Fine-Tuning'*\n",
    "4) *'Evaluation & Iterative Improvement'*\n",
    "5) *'Deployment & Final Presentation'*\n",
    "\n",
    "L'objectif final étant d'avoir un assistant personnel et de le démontrer.\n",
    "\n",
    "Enfin, nous allons utiliser des fonctions tirées du cours afin d'accélérer le temps de développement du projet."
   ],
   "metadata": {
    "collapsed": false
   }
  },
  {
   "id": "c6ec3a16d3947045",
   "cell_type": "markdown",
   "source": [
    "## 1 - *'Environment Setup & Base Model Initialization'*"
   ],
   "metadata": {
    "collapsed": false
   }
  },
  {
   "id": "23372f8337d03d9c",
   "cell_type": "markdown",
   "source": [
    "#### Important !\n",
    "\n",
    "On ne dispose que d'une carte **NVIDIA GTX 1660ti 6Go**, cela n'était clairement pas suffisant pour entrainer notre modèle (que l'on verra par la suite) puisque nous avions des **OOM** [Out Of Memory error] malgré le réglage des paramètres. On a donc fait le tour de différents **services cloud** pour entrainer notre modèle avec des **GPU** plus **performants**. La meilleure offre que l'on a trouvée est celle de **<a href=https://www.kaggle.com>Kaggle</a>**. Nous disposons de **30h** par **semaine** de **GPU** **gratuitement** (avec 12h de session maximum). Ainsi pour entrainer notre modèle, nous avons utilisé en **parallèle deux GPU tesla T4** (on avait au choix : GPU T4 x 2; GPU P100; TPU VM v3-8) ce qui nous a dans un premier temps, tout simplement permis d'entrainer notre modèle qui est un peu lourd et en plus de le faire rapidement grâce à l'utilisation parallèle des deux GPU T4 offerts par Kaggle.\n",
    "\n",
    "Pour utiliser Kaggle, nous devons importer nos fichiers locaux sur l'interface Web (nous avons déjà créé un dataset contenant nos fichiers python...) et les rendre utilisables en les mettant dans le dossier **working**."
   ],
   "metadata": {
    "collapsed": false
   }
  },
  {
   "id": "ba35a94c-40aa-42b3-85bd-b27f8664d419",
   "cell_type": "code",
   "source": [
    "import shutil\n",
    "import os\n",
    "\n",
    "# Créer le dossier cible s'il n'existe pas\n",
    "os.makedirs(\"/kaggle/working/projet\", exist_ok=True)\n",
    "\n",
    "# Copier tous les fichiers depuis /kaggle/input/vers /kaggle/working/projet/\n",
    "shutil.copytree(\"/kaggle/input/librairies-hugo-llm-final-project\", \"/kaggle/working/project\", dirs_exist_ok=True)\n",
    "\n",
    "print(\"Fichiers et dossiers copiés dans /kaggle/working/project/\")"
   ],
   "metadata": {
    "trusted": true,
    "execution": {
     "iopub.status.busy": "2025-02-17T13:58:50.875109Z",
     "iopub.execute_input": "2025-02-17T13:58:50.875394Z",
     "iopub.status.idle": "2025-02-17T13:58:50.906322Z",
     "shell.execute_reply.started": "2025-02-17T13:58:50.875361Z",
     "shell.execute_reply": "2025-02-17T13:58:50.905474Z"
    },
    "ExecuteTime": {
     "end_time": "2025-02-15T13:59:57.324784700Z",
     "start_time": "2025-02-15T13:59:57.204905600Z"
    }
   },
   "outputs": [
    {
     "name": "stdout",
     "text": "Fichiers et dossiers copiés dans /kaggle/working/project/\n",
     "output_type": "stream"
    }
   ],
   "execution_count": 1
  },
  {
   "id": "081d0ecc-c120-4bd5-bace-fe561a0f35fd",
   "cell_type": "code",
   "source": [
    "import os\n",
    "\n",
    "# Lister les fichiers dans le répertoire de travail actuel\n",
    "print(os.listdir(\"/kaggle/working/project\"))"
   ],
   "metadata": {
    "trusted": true,
    "execution": {
     "iopub.status.busy": "2025-02-17T13:58:50.907108Z",
     "iopub.execute_input": "2025-02-17T13:58:50.907308Z",
     "iopub.status.idle": "2025-02-17T13:58:50.911994Z",
     "shell.execute_reply.started": "2025-02-17T13:58:50.907290Z",
     "shell.execute_reply": "2025-02-17T13:58:50.911079Z"
    },
    "ExecuteTime": {
     "end_time": "2025-02-15T13:59:57.328823700Z",
     "start_time": "2025-02-15T13:59:57.319089300Z"
    }
   },
   "outputs": [
    {
     "name": "stdout",
     "text": "['gpt_instruction_finetuning.py', 'previous_labs.py', 'gpt_download.py']\n",
     "output_type": "stream"
    }
   ],
   "execution_count": 2
  },
  {
   "id": "6036622f-e0a8-48d9-baf2-11427ef76fc9",
   "cell_type": "code",
   "source": [
    "import sys\n",
    "sys.path.append(\"/kaggle/working/project\")"
   ],
   "metadata": {
    "trusted": true,
    "execution": {
     "iopub.status.busy": "2025-02-17T13:58:50.913134Z",
     "iopub.execute_input": "2025-02-17T13:58:50.913441Z",
     "iopub.status.idle": "2025-02-17T13:58:50.923562Z",
     "shell.execute_reply.started": "2025-02-17T13:58:50.913395Z",
     "shell.execute_reply": "2025-02-17T13:58:50.922719Z"
    },
    "ExecuteTime": {
     "end_time": "2025-02-15T13:59:57.443310400Z",
     "start_time": "2025-02-15T13:59:57.330821200Z"
    }
   },
   "outputs": [],
   "execution_count": 3
  },
  {
   "id": "b15cc3eda643c8cf",
   "cell_type": "markdown",
   "source": [
    "Maintenant que nous avons importé nos différents fichiers, commençons le projet.\n",
    "Importons notre modèle GPT-2. Nous utiliserons la version medium (355M param) pour un meilleur rendu final même si plus lourd au fine-tuning."
   ],
   "metadata": {
    "collapsed": false
   }
  },
  {
   "id": "529d9a322847511b",
   "cell_type": "code",
   "source": [
    "from gpt_download import download_and_load_gpt2\n",
    "from previous_labs import GPTModel, load_weights_into_gpt\n",
    "\n",
    "\n",
    "BASE_CONFIG = {\n",
    "    \"vocab_size\": 50257,     # Vocabulary size\n",
    "    \"context_length\": 1024,  # Context length\n",
    "    \"drop_rate\": 0.0,        # Dropout rate\n",
    "    \"qkv_bias\": True         # Query-key-value bias\n",
    "}\n",
    "\n",
    "model_configs = {\n",
    "    \"gpt2-small (124M)\": {\"emb_dim\": 768, \"n_layers\": 12, \"n_heads\": 12},\n",
    "    \"gpt2-medium (355M)\": {\"emb_dim\": 1024, \"n_layers\": 24, \"n_heads\": 16},\n",
    "    \"gpt2-large (774M)\": {\"emb_dim\": 1280, \"n_layers\": 36, \"n_heads\": 20},\n",
    "    \"gpt2-xl (1558M)\": {\"emb_dim\": 1600, \"n_layers\": 48, \"n_heads\": 25},\n",
    "}\n",
    "\n",
    "CHOOSE_MODEL = \"gpt2-medium (355M)\"\n",
    "\n",
    "BASE_CONFIG.update(model_configs[CHOOSE_MODEL])\n",
    "\n",
    "model_size = CHOOSE_MODEL.split(\" \")[-1].lstrip(\"(\").rstrip(\")\")\n",
    "settings, params = download_and_load_gpt2(model_size=model_size, models_dir=\"gpt2\")\n",
    "\n",
    "model = GPTModel(BASE_CONFIG)\n",
    "load_weights_into_gpt(model, params)\n",
    "model.eval();"
   ],
   "metadata": {
    "collapsed": false,
    "trusted": true,
    "execution": {
     "iopub.status.busy": "2025-02-17T13:58:50.925741Z",
     "iopub.execute_input": "2025-02-17T13:58:50.926041Z",
     "iopub.status.idle": "2025-02-17T14:00:52.655491Z",
     "shell.execute_reply.started": "2025-02-17T13:58:50.926012Z",
     "shell.execute_reply": "2025-02-17T14:00:52.654536Z"
    },
    "ExecuteTime": {
     "end_time": "2025-02-17T22:42:35.291413300Z",
     "start_time": "2025-02-17T22:42:24.021487700Z"
    }
   },
   "outputs": [
    {
     "name": "stdout",
     "output_type": "stream",
     "text": [
      "File already exists and is up-to-date: gpt2\\355M\\checkpoint\n",
      "File already exists and is up-to-date: gpt2\\355M\\encoder.json\n",
      "File already exists and is up-to-date: gpt2\\355M\\hparams.json\n",
      "File already exists and is up-to-date: gpt2\\355M\\model.ckpt.data-00000-of-00001\n",
      "File already exists and is up-to-date: gpt2\\355M\\model.ckpt.index\n",
      "File already exists and is up-to-date: gpt2\\355M\\model.ckpt.meta\n",
      "File already exists and is up-to-date: gpt2\\355M\\vocab.bpe\n"
     ]
    }
   ],
   "execution_count": 7
  },
  {
   "id": "236615bf9dc4e4a3",
   "cell_type": "markdown",
   "source": [
    "Vérifions ensuite que notre modèle est bien importé et fonctionnel en lui faisant générer du texte, la phrase générée doit avoir du sens pour affirmer que notre modèle est bien instancié."
   ],
   "metadata": {
    "collapsed": false
   }
  },
  {
   "id": "595c96cbf49f7ad7",
   "cell_type": "code",
   "source": [
    "import tiktoken\n",
    "\n",
    "tokenizer = tiktoken.get_encoding(\"gpt2\")"
   ],
   "metadata": {
    "collapsed": false,
    "trusted": true,
    "execution": {
     "iopub.status.busy": "2025-02-17T14:00:52.656720Z",
     "iopub.execute_input": "2025-02-17T14:00:52.657216Z",
     "iopub.status.idle": "2025-02-17T14:00:53.871535Z",
     "shell.execute_reply.started": "2025-02-17T14:00:52.657192Z",
     "shell.execute_reply": "2025-02-17T14:00:53.870818Z"
    },
    "ExecuteTime": {
     "end_time": "2025-02-17T22:42:38.237572200Z",
     "start_time": "2025-02-17T22:42:38.220788800Z"
    }
   },
   "outputs": [],
   "execution_count": 8
  },
  {
   "id": "4015d7d684021043",
   "cell_type": "code",
   "source": [
    "import torch\n",
    "from previous_labs import generate, text_to_token_ids, token_ids_to_text\n",
    "\n",
    "torch.manual_seed(123)\n",
    "\n",
    "token_ids = generate(\n",
    "    model=model,\n",
    "    idx=text_to_token_ids(\"Translate in french: Hello World !\", tokenizer),\n",
    "    max_new_tokens=25,\n",
    "    context_size=BASE_CONFIG[\"context_length\"],\n",
    "    top_k=25,\n",
    "    temperature=0.8\n",
    ")\n",
    "\n",
    "print(\"Output text:\\n\", token_ids_to_text(token_ids, tokenizer))"
   ],
   "metadata": {
    "collapsed": false,
    "trusted": true,
    "execution": {
     "iopub.status.busy": "2025-02-17T14:00:53.872333Z",
     "iopub.execute_input": "2025-02-17T14:00:53.872667Z",
     "iopub.status.idle": "2025-02-17T14:01:00.277759Z",
     "shell.execute_reply.started": "2025-02-17T14:00:53.872635Z",
     "shell.execute_reply": "2025-02-17T14:01:00.276776Z"
    },
    "ExecuteTime": {
     "end_time": "2025-02-17T22:42:48.077641400Z",
     "start_time": "2025-02-17T22:42:39.906547600Z"
    }
   },
   "outputs": [
    {
     "name": "stdout",
     "output_type": "stream",
     "text": [
      "Output text:\n",
      " Translate in french: Hello World !\n",
      "\n",
      "This is a quick tutorial on translating a simple web application into another native language.\n",
      "\n",
      "You can find the source\n"
     ]
    }
   ],
   "execution_count": 9
  },
  {
   "id": "c23b08b0712d8e0f",
   "cell_type": "markdown",
   "source": [
    "Le texte généré a du sens même s'il ne répond pas au problème (c'est pour cela qu'on va le fine-tuner), ce qui prouve que notre modèle a été correctement chargé."
   ],
   "metadata": {
    "collapsed": false
   }
  },
  {
   "id": "12b8f687a2162080",
   "cell_type": "markdown",
   "source": [
    "Enfin, pour réduire radicalement le temps \"d'entrainement\" (ici, c'est plus du fine-tuning) de notre modèle, nous utiliserons les deux GPU T4 et les ferons tourner parallèlement. "
   ],
   "metadata": {
    "collapsed": false
   }
  },
  {
   "id": "c0c05f9b116f2bd5",
   "cell_type": "code",
   "source": [
    "import torch\n",
    "\n",
    "device = torch.device(\"cuda\" if torch.cuda.is_available() else \"cpu\")\n",
    "\n",
    "if torch.cuda.device_count() > 1:\n",
    "    model = torch.nn.DataParallel(model)\n",
    "\n",
    "model.to(device)\n",
    "\n",
    "print(f\"Utilisation de {torch.cuda.device_count()} GPUs\")"
   ],
   "metadata": {
    "collapsed": false,
    "trusted": true,
    "execution": {
     "iopub.status.busy": "2025-02-17T14:01:00.278737Z",
     "iopub.execute_input": "2025-02-17T14:01:00.279037Z",
     "iopub.status.idle": "2025-02-17T14:01:00.997590Z",
     "shell.execute_reply.started": "2025-02-17T14:01:00.279014Z",
     "shell.execute_reply": "2025-02-17T14:01:00.996875Z"
    },
    "ExecuteTime": {
     "end_time": "2025-02-17T09:33:32.581556Z",
     "start_time": "2025-02-17T09:33:31.962661400Z"
    }
   },
   "outputs": [
    {
     "name": "stdout",
     "text": "Utilisation de 2 GPUs\n",
     "output_type": "stream"
    }
   ],
   "execution_count": 7
  },
  {
   "id": "9b309af3f2ac8f77",
   "cell_type": "markdown",
   "source": [
    "## 2 - *'Instruction Dataset Preparation'*"
   ],
   "metadata": {
    "collapsed": false
   }
  },
  {
   "id": "e875accef6cc645a",
   "cell_type": "markdown",
   "source": [
    "Nous avons bien compris qu'il est **compliqué** de **créer un assistant** très **généraliste performant**, surtout pour les petits modèles que nous entraînons. Il est donc préférable de concevoir plusieurs **assistants spécialisés** dans des tâches spécifiques. Ici, nous nous concentrerons sur la création d’un **assistant dédié à la traduction de l'anglais au français**.\n",
    "\n",
    "Pour cela, nous utiliserons le dataset **<a href=https://huggingface.co/datasets/FrancophonIA/English-French>FrancophonIA/English-French</a>**.\n",
    "La **longueur maximale** des textes en **anglais** est de **262** caractères, tandis que celle des textes en **français** est de **325** caractères. Cependant, la longueur en tokens peut différer (et c'est même presque toujours le cas), car un caractère ne correspond pas systématiquement à un token.\n",
    "\n",
    "### Gestion des tokens\n",
    "\n",
    "D'après **OpenAI** (c.f. https://help.openai.com/en/articles/4936856-what-are-tokens-and-how-to-count-them):\n",
    "\n",
    "    \"1,500 words ~= 2048 tokens\"\n",
    "\n",
    "Ce qui donne une approximation de **1024 tokens ≈ 750 mots**.\n",
    "\n",
    "Notre dataset suit le format **Parallel Corpus** (**Anglais** ↔ **Français** pour chaque ligne), ce qui est idéal pour fine-tuner notre modèle. Cependant, **GPT-2** est pré-entraîné sur du **texte brut**, donc nous devons concaténer les entrées et sorties en une seule séquence pour respecter ce format.\n",
    "\n",
    "### Longueurs des mots et tokenization\n",
    "\n",
    "Après une courte recherche sur Google, nous trouvons:\n",
    "\n",
    "- **Anglais** : ~**4.7** caractères/mot\n",
    "- **Français** : ~**5.1** caractères/mot\n",
    "\n",
    "Si l'on considère une moyenne de 5 caractères par mot, alors une phrase combinant un texte en anglais (262 caractères) et un texte en français (325 caractères) représente environ :\n",
    "\n",
    "(262 + 325)/5 ~= 118 mots ~ 161 tokens \n",
    "\n",
    "### Dépassement du max_length de 1024 tokens\n",
    "\n",
    "Nous sommes donc largement **sous** la **limite** des **1024** tokens. Cela signifie que nous pouvons ajouter des consignes via du **prompt engineering** pour **améliorer** l'**entraînement** du modèle sans dépasser cette contrainte.\n",
    "\n",
    "Si certaines réponses venaient à dépasser cette limite, nous appliquerons une **troncature**, bien que ce cas soit peu probable, car le modèle **BPE** utilisé par **GPT-2** segmente efficacement les mots fréquents."
   ],
   "metadata": {
    "collapsed": false
   }
  },
  {
   "cell_type": "markdown",
   "source": [
    "Comme nous avons pris un dataset sur **HuggingFace**, il existe une libraire python 'datasets' pour l'importer directement."
   ],
   "metadata": {
    "collapsed": false
   },
   "id": "232c16a08a55ff25"
  },
  {
   "id": "bdffda8ff958f51",
   "cell_type": "code",
   "source": [
    "import datasets\n",
    "import tqdm\n",
    "\n",
    "dataset = datasets.load_dataset(\"FrancophonIA/English-French\")"
   ],
   "metadata": {
    "collapsed": false,
    "trusted": true,
    "execution": {
     "iopub.status.busy": "2025-02-17T14:01:00.998227Z",
     "iopub.execute_input": "2025-02-17T14:01:00.998456Z",
     "iopub.status.idle": "2025-02-17T14:01:03.904068Z",
     "shell.execute_reply.started": "2025-02-17T14:01:00.998425Z",
     "shell.execute_reply": "2025-02-17T14:01:03.903381Z"
    },
    "ExecuteTime": {
     "end_time": "2025-02-18T13:01:40.156436500Z",
     "start_time": "2025-02-18T13:01:38.511413400Z"
    }
   },
   "outputs": [],
   "execution_count": 37
  },
  {
   "id": "8ee05d2eee41f8cd",
   "cell_type": "code",
   "source": [
    "print(dataset)"
   ],
   "metadata": {
    "collapsed": false,
    "trusted": true,
    "execution": {
     "iopub.status.busy": "2025-02-17T14:01:03.904838Z",
     "iopub.execute_input": "2025-02-17T14:01:03.905530Z",
     "iopub.status.idle": "2025-02-17T14:01:03.909760Z",
     "shell.execute_reply.started": "2025-02-17T14:01:03.905494Z",
     "shell.execute_reply": "2025-02-17T14:01:03.908922Z"
    },
    "ExecuteTime": {
     "end_time": "2025-02-18T13:01:41.511685700Z",
     "start_time": "2025-02-18T13:01:41.486654900Z"
    }
   },
   "outputs": [
    {
     "name": "stdout",
     "output_type": "stream",
     "text": [
      "DatasetDict({\n",
      "    train: Dataset({\n",
      "        features: ['English words/sentences', 'French words/sentences'],\n",
      "        num_rows: 175621\n",
      "    })\n",
      "})\n"
     ]
    }
   ],
   "execution_count": 38
  },
  {
   "id": "b0de708fc550d557",
   "cell_type": "code",
   "source": [
    "print(dataset[\"train\"][0])  "
   ],
   "metadata": {
    "collapsed": false,
    "trusted": true,
    "execution": {
     "iopub.status.busy": "2025-02-17T14:01:03.910489Z",
     "iopub.execute_input": "2025-02-17T14:01:03.910706Z",
     "iopub.status.idle": "2025-02-17T14:01:03.929694Z",
     "shell.execute_reply.started": "2025-02-17T14:01:03.910684Z",
     "shell.execute_reply": "2025-02-17T14:01:03.928880Z"
    },
    "ExecuteTime": {
     "end_time": "2025-02-18T13:01:43.702680100Z",
     "start_time": "2025-02-18T13:01:43.666564900Z"
    }
   },
   "outputs": [
    {
     "name": "stdout",
     "output_type": "stream",
     "text": [
      "{'English words/sentences': 'Hi.', 'French words/sentences': 'Salut!'}\n"
     ]
    }
   ],
   "execution_count": 39
  },
  {
   "id": "80561a6b455e744c",
   "cell_type": "markdown",
   "source": [
    "Nous avons fait un tour rapidement de quelques lignes pour s'assurer qu'elles étaient **bien rédigées**, etc. Il y a **175,621 lignes** ce qui permet une **traduction** assez **complète**. De plus, \"author only used sentences that were owned by identified native speakers working on the Tatoeba Project and English sentences that he personally checked and did not reject.\" (c.f. https://www.kaggle.com/datasets/devicharith/language-translation-englishfrench).\n",
    "Nous avons donc un **indice de confiance élevé** pour ce **dataset**."
   ],
   "metadata": {
    "collapsed": false
   }
  },
  {
   "id": "49116b7fdf3b7761",
   "cell_type": "markdown",
   "source": [
    "Nous allons également séparer nos données en sets train, test, validation puisqu'ils n'existent pas de base."
   ],
   "metadata": {
    "collapsed": false
   }
  },
  {
   "id": "7551bb43704b8716",
   "cell_type": "code",
   "source": [
    "data = dataset['train'].shuffle(seed=123)\n",
    "\n",
    "# On définit nos portions\n",
    "train_portion = int(len(data) * 0.80)\n",
    "val_portion = int(len(data) * 0.10)\n",
    "\n",
    "# Séparation en train (80%), validation (10%) et test (10%)\n",
    "train_data = data.select(range(train_portion))\n",
    "val_data = data.select(range(train_portion, train_portion + val_portion))\n",
    "test_data = data.select(range(train_portion + val_portion, len(data)))"
   ],
   "metadata": {
    "collapsed": false,
    "trusted": true,
    "execution": {
     "iopub.status.busy": "2025-02-17T14:01:03.930581Z",
     "iopub.execute_input": "2025-02-17T14:01:03.930848Z",
     "iopub.status.idle": "2025-02-17T14:01:03.991061Z",
     "shell.execute_reply.started": "2025-02-17T14:01:03.930827Z",
     "shell.execute_reply": "2025-02-17T14:01:03.990462Z"
    },
    "ExecuteTime": {
     "end_time": "2025-02-18T13:01:50.650713800Z",
     "start_time": "2025-02-18T13:01:50.619712700Z"
    }
   },
   "outputs": [],
   "execution_count": 40
  },
  {
   "id": "5841adf6584a47dd",
   "cell_type": "code",
   "source": [
    "print(len(train_data), len(val_data), len(test_data))\n",
    "print(train_data[0])"
   ],
   "metadata": {
    "collapsed": false,
    "trusted": true,
    "execution": {
     "iopub.status.busy": "2025-02-17T14:01:03.991815Z",
     "iopub.execute_input": "2025-02-17T14:01:03.992017Z",
     "iopub.status.idle": "2025-02-17T14:01:03.997263Z",
     "shell.execute_reply.started": "2025-02-17T14:01:03.991999Z",
     "shell.execute_reply": "2025-02-17T14:01:03.996463Z"
    },
    "ExecuteTime": {
     "end_time": "2025-02-18T13:01:52.466964900Z",
     "start_time": "2025-02-18T13:01:52.443828900Z"
    }
   },
   "outputs": [
    {
     "name": "stdout",
     "output_type": "stream",
     "text": [
      "140496 17562 17563\n",
      "{'English words/sentences': \"I'll try to do better next time.\", 'French words/sentences': \"J'essayerai de faire mieux la prochaine fois.\"}\n"
     ]
    }
   ],
   "execution_count": 41
  },
  {
   "id": "6576a53b6d64cd4",
   "cell_type": "markdown",
   "source": [
    "On voit bien la répartition des différents ensembles."
   ],
   "metadata": {
    "collapsed": false
   }
  },
  {
   "id": "be55f5db69dd264a",
   "cell_type": "markdown",
   "source": [
    "Concaténons les questions et réponses en une seule phrase pour obtenir notre texte brut pour le fine-tuning. Appliquons également du **Prompt Engineering** pour aligner notre modèle sur nos attentes et optimiser ses performances.  \n",
    "\n",
    "Pour cela, définissons :  \n",
    "- **Un rôle** pour guider son comportement,  \n",
    "- **Une tâche** pour préciser l’objectif,  \n",
    "- Enfin, **la question et la réponse**, afin qu’il apprenne le format attendu."
   ],
   "metadata": {
    "collapsed": false
   }
  },
  {
   "id": "1a67da735dc82b3f",
   "cell_type": "code",
   "source": [
    "from torch.utils.data import Dataset, DataLoader\n",
    "\n",
    "class TranslationDataset(Dataset):\n",
    "    def __init__(self, data, tokenizer):\n",
    "        self.data = data\n",
    "        self.tokenizer = tokenizer\n",
    "        self.encoded_texts = []\n",
    "\n",
    "        # Tokenisation des données avec un rôle explicite\n",
    "        for entry in data:\n",
    "            instruction = (\n",
    "                \"\\n\\n### Role: You are a translation assistant.\"\n",
    "                \"\\n### Task: Translate the given English sentence into French.\"\n",
    "                f\"\\n### English Sentence:\\n{entry['English words/sentences']}\"\n",
    "            )\n",
    "            response = f\"\\n\\n### French Translation:\\n{entry['French words/sentences']} <|endoftext|>\"\n",
    "\n",
    "            full_text = instruction + response\n",
    "            self.encoded_texts.append(\n",
    "                self.tokenizer.encode(full_text, allowed_special={\"<|endoftext|>\"})\n",
    "            )\n",
    "\n",
    "    def __getitem__(self, index):\n",
    "        return self.encoded_texts[index]\n",
    "\n",
    "    def __len__(self):\n",
    "        return len(self.data)"
   ],
   "metadata": {
    "collapsed": false,
    "trusted": true,
    "execution": {
     "iopub.status.busy": "2025-02-17T14:01:03.999760Z",
     "iopub.execute_input": "2025-02-17T14:01:03.999961Z",
     "iopub.status.idle": "2025-02-17T14:01:04.013641Z",
     "shell.execute_reply.started": "2025-02-17T14:01:03.999943Z",
     "shell.execute_reply": "2025-02-17T14:01:04.012843Z"
    },
    "ExecuteTime": {
     "end_time": "2025-02-15T16:33:13.757604800Z",
     "start_time": "2025-02-15T16:33:13.749936500Z"
    }
   },
   "outputs": [],
   "execution_count": 13
  },
  {
   "id": "48c28ce5faf4d886",
   "cell_type": "markdown",
   "source": [
    "Par ailleurs, créons des batchs de taille dynamique (plus grande entrée ou 1024 max) afin d'améliorer notre entraînement."
   ],
   "metadata": {
    "collapsed": false
   }
  },
  {
   "id": "b067d26166492329",
   "cell_type": "code",
   "source": [
    "from functools import partial\n",
    "from gpt_instruction_finetuning import custom_collate_fn\n",
    "\n",
    "customized_collate_fn = partial(custom_collate_fn, device=device, allowed_max_length=1024)"
   ],
   "metadata": {
    "collapsed": false,
    "ExecuteTime": {
     "end_time": "2025-02-15T16:33:26.006995900Z",
     "start_time": "2025-02-15T16:33:25.994350100Z"
    },
    "trusted": true,
    "execution": {
     "iopub.status.busy": "2025-02-17T14:01:04.014958Z",
     "iopub.execute_input": "2025-02-17T14:01:04.015172Z",
     "iopub.status.idle": "2025-02-17T14:01:04.027684Z",
     "shell.execute_reply.started": "2025-02-17T14:01:04.015146Z",
     "shell.execute_reply": "2025-02-17T14:01:04.026768Z"
    }
   },
   "outputs": [],
   "execution_count": 14
  },
  {
   "id": "3f14edfeb622a95e",
   "cell_type": "markdown",
   "source": [
    "Maintenant, il ne reste plus qu'à en faire des data loaders."
   ],
   "metadata": {
    "collapsed": false
   }
  },
  {
   "id": "85750966698b3368",
   "cell_type": "code",
   "source": [
    "num_workers = 0 # CPU trop faible pour +\n",
    "batch_size = 16  # bas pour éviter OOM\n",
    "\n",
    "train_dataset = TranslationDataset(train_data, tokenizer=tokenizer)\n",
    "train_loader = DataLoader(\n",
    "    train_dataset,\n",
    "    batch_size=batch_size,\n",
    "    collate_fn=customized_collate_fn,\n",
    "    shuffle=True,\n",
    "    drop_last=True,\n",
    "    num_workers=num_workers\n",
    ")\n",
    "\n",
    "val_dataset = TranslationDataset(val_data, tokenizer=tokenizer)\n",
    "val_loader = DataLoader(\n",
    "    val_dataset,\n",
    "    batch_size=batch_size,\n",
    "    collate_fn=customized_collate_fn,\n",
    "    shuffle=True,\n",
    "    drop_last=True,\n",
    "    num_workers=num_workers\n",
    ")\n",
    "\n",
    "test_dataset = TranslationDataset(test_data, tokenizer=tokenizer)\n",
    "test_loader = DataLoader(\n",
    "    test_dataset,\n",
    "    batch_size=batch_size,\n",
    "    collate_fn=customized_collate_fn,\n",
    "    shuffle=True,\n",
    "    drop_last=True,\n",
    "    num_workers=num_workers\n",
    ")"
   ],
   "metadata": {
    "collapsed": false,
    "trusted": true,
    "execution": {
     "iopub.status.busy": "2025-02-17T14:01:04.028532Z",
     "iopub.execute_input": "2025-02-17T14:01:04.028822Z",
     "iopub.status.idle": "2025-02-17T14:01:22.973579Z",
     "shell.execute_reply.started": "2025-02-17T14:01:04.028793Z",
     "shell.execute_reply": "2025-02-17T14:01:22.972623Z"
    },
    "ExecuteTime": {
     "end_time": "2025-02-15T16:33:31.187777600Z",
     "start_time": "2025-02-15T16:33:30.103442600Z"
    }
   },
   "outputs": [],
   "execution_count": 15
  },
  {
   "id": "34ae5d088eebd586",
   "cell_type": "markdown",
   "source": [
    "## 3 - *'Instruction Fine-Tuning'*"
   ],
   "metadata": {
    "collapsed": false
   }
  },
  {
   "id": "355b0517d0eacacc",
   "cell_type": "markdown",
   "source": [
    "Il est maintenant temps de lancer \"l'apprentissage\" de notre modèle !\n",
    "\n",
    "Le learning rate est de 5e-5, ce qui est souvent utilisé pour le fine-tuning d'un modèle pré-entrainé comme GPT-2.\n",
    "\n",
    "Le batch_size est de 16, nous avons commencé à 32, mais ne disposions pas d'assez de mémoire (OOM).\n",
    "\n",
    "Nous avons également mis 2 epochs, c'est une valeur souvent utilisée pour fine-tuner en évitant de trop sur-apprendre et pour ne pas entrainer pendant trop longtemps (l'entrainement a pris presque 6h sur Kaggle, il aurait fallu près de 54 jours sur notre ordinateur)."
   ],
   "metadata": {
    "collapsed": false
   }
  },
  {
   "id": "7172669173ee1c19",
   "cell_type": "code",
   "source": [
    "from previous_labs import train_model_simple\n",
    "\n",
    "import time\n",
    "\n",
    "start_time = time.time()\n",
    "\n",
    "torch.manual_seed(123)\n",
    "\n",
    "num_epochs = 2\n",
    "optimizer = torch.optim.AdamW(model.parameters(), lr=0.00005, weight_decay=0.1)\n",
    "model.to(device)\n",
    "\n",
    "train_losses, val_losses, tokens_seen = train_model_simple(\n",
    "    model=model,\n",
    "    train_loader=train_loader,\n",
    "    val_loader=val_loader, \n",
    "    optimizer=optimizer,\n",
    "    device=device,\n",
    "    num_epochs=num_epochs,\n",
    "    eval_freq=500,\n",
    "    eval_iter=100,\n",
    "    start_context=val_data[0][\"English words/sentences\"],\n",
    "    tokenizer=tokenizer\n",
    ")\n",
    "\n",
    "end_time = time.time()\n",
    "execution_time_minutes = (end_time - start_time) / 60\n",
    "print(f\"Training completed in {execution_time_minutes:.2f} minutes.\")"
   ],
   "metadata": {
    "collapsed": false,
    "trusted": true,
    "execution": {
     "iopub.status.busy": "2025-02-17T14:01:22.974531Z",
     "iopub.execute_input": "2025-02-17T14:01:22.974851Z",
     "iopub.status.idle": "2025-02-17T19:48:59.426098Z",
     "shell.execute_reply.started": "2025-02-17T14:01:22.974819Z",
     "shell.execute_reply": "2025-02-17T19:48:59.425183Z"
    },
    "ExecuteTime": {
     "end_time": "2025-02-15T17:05:13.156829400Z",
     "start_time": "2025-02-15T17:05:02.577949200Z"
    }
   },
   "outputs": [
    {
     "name": "stdout",
     "text": "Ep 1 (Step 000000): Train loss 2.546, Val loss 2.550\nEp 1 (Step 000500): Train loss 0.737, Val loss 0.745\nEp 1 (Step 001000): Train loss 0.634, Val loss 0.659\nEp 1 (Step 001500): Train loss 0.611, Val loss 0.632\nEp 1 (Step 002000): Train loss 0.572, Val loss 0.585\nEp 1 (Step 002500): Train loss 0.531, Val loss 0.570\nEp 1 (Step 003000): Train loss 0.524, Val loss 0.552\nEp 1 (Step 003500): Train loss 0.507, Val loss 0.529\nEp 1 (Step 004000): Train loss 0.479, Val loss 0.524\nEp 1 (Step 004500): Train loss 0.474, Val loss 0.509\nEp 1 (Step 005000): Train loss 0.465, Val loss 0.507\nEp 1 (Step 005500): Train loss 0.457, Val loss 0.497\nEp 1 (Step 006000): Train loss 0.452, Val loss 0.494\nEp 1 (Step 006500): Train loss 0.445, Val loss 0.494\nEp 1 (Step 007000): Train loss 0.431, Val loss 0.482\nEp 1 (Step 007500): Train loss 0.418, Val loss 0.487\nEp 1 (Step 008000): Train loss 0.408, Val loss 0.482\nEp 1 (Step 008500): Train loss 0.406, Val loss 0.479\nShe showed him the photo.  I'm not sure what to do with it.  I'm not sure what to do with it.  I'm not sure what to do with it.  I'm not sure what to do with it.  \nEp 2 (Step 009000): Train loss 0.398, Val loss 0.469\nEp 2 (Step 009500): Train loss 0.392, Val loss 0.479\nEp 2 (Step 010000): Train loss 0.389, Val loss 0.470\nEp 2 (Step 010500): Train loss 0.389, Val loss 0.471\nEp 2 (Step 011000): Train loss 0.383, Val loss 0.466\nEp 2 (Step 011500): Train loss 0.369, Val loss 0.461\nEp 2 (Step 012000): Train loss 0.372, Val loss 0.454\nEp 2 (Step 012500): Train loss 0.367, Val loss 0.452\nEp 2 (Step 013000): Train loss 0.361, Val loss 0.463\nEp 2 (Step 013500): Train loss 0.361, Val loss 0.457\nEp 2 (Step 014000): Train loss 0.352, Val loss 0.445\nEp 2 (Step 014500): Train loss 0.356, Val loss 0.462\nEp 2 (Step 015000): Train loss 0.346, Val loss 0.452\nEp 2 (Step 015500): Train loss 0.344, Val loss 0.442\nEp 2 (Step 016000): Train loss 0.341, Val loss 0.440\nEp 2 (Step 016500): Train loss 0.334, Val loss 0.441\nEp 2 (Step 017000): Train loss 0.330, Val loss 0.448\nEp 2 (Step 017500): Train loss 0.325, Val loss 0.445\nShe showed him the photo.  ### Role: You are a translation assistant. ### Task: Translate the photo into French. ### English Sentence: I'm not sure that's a good idea.  ### French Translation: Je ne suis\nTraining completed in 347.61 minutes.\n",
     "output_type": "stream"
    }
   ],
   "execution_count": 16
  },
  {
   "id": "7c8cf8f1186095dc",
   "cell_type": "markdown",
   "source": [
    "On enregistre notre modèle pour le réutiliser par la suite."
   ],
   "metadata": {
    "collapsed": false
   }
  },
  {
   "id": "ff7719478b46cba3",
   "cell_type": "code",
   "source": [
    "torch.save(model, 'ft-model.pth')"
   ],
   "metadata": {
    "collapsed": false,
    "trusted": true,
    "execution": {
     "iopub.status.busy": "2025-02-17T19:48:59.427034Z",
     "iopub.execute_input": "2025-02-17T19:48:59.427709Z",
     "iopub.status.idle": "2025-02-17T19:49:01.896655Z",
     "shell.execute_reply.started": "2025-02-17T19:48:59.427685Z",
     "shell.execute_reply": "2025-02-17T19:49:01.895869Z"
    },
    "ExecuteTime": {
     "end_time": "2025-02-15T14:00:06.162820700Z",
     "start_time": "2025-02-15T14:00:06.157785400Z"
    }
   },
   "outputs": [],
   "execution_count": 17
  },
  {
   "id": "bac13ae1-fbe1-4842-a571-05408a06d1ec",
   "cell_type": "code",
   "source": [
    "from IPython.display import FileLink\n",
    "\n",
    "display(FileLink(\"ft-model.pth\"))"
   ],
   "metadata": {
    "trusted": true,
    "execution": {
     "iopub.status.busy": "2025-02-17T19:49:01.897388Z",
     "iopub.execute_input": "2025-02-17T19:49:01.897624Z",
     "iopub.status.idle": "2025-02-17T19:49:01.902533Z",
     "shell.execute_reply.started": "2025-02-17T19:49:01.897605Z",
     "shell.execute_reply": "2025-02-17T19:49:01.901799Z"
    }
   },
   "outputs": [
    {
     "output_type": "display_data",
     "data": {
      "text/plain": "/kaggle/working/ft-model.pth",
      "text/html": "<a href='ft-model.pth' target='_blank'>ft-model.pth</a><br>"
     },
     "metadata": {}
    }
   ],
   "execution_count": 18
  },
  {
   "id": "7caf2e608e8e7b0c",
   "cell_type": "code",
   "source": [
    "from previous_labs import plot_losses\n",
    "\n",
    "epochs_tensor = torch.linspace(0, num_epochs, len(train_losses))\n",
    "plot_losses(epochs_tensor, tokens_seen, train_losses, val_losses)"
   ],
   "metadata": {
    "collapsed": false,
    "trusted": true,
    "execution": {
     "iopub.status.busy": "2025-02-17T19:49:01.903147Z",
     "iopub.execute_input": "2025-02-17T19:49:01.903332Z",
     "iopub.status.idle": "2025-02-17T19:49:03.085826Z",
     "shell.execute_reply.started": "2025-02-17T19:49:01.903315Z",
     "shell.execute_reply": "2025-02-17T19:49:03.084950Z"
    }
   },
   "outputs": [
    {
     "output_type": "display_data",
     "data": {
      "text/plain": "<Figure size 500x300 with 2 Axes>",
      "image/png": "[encoded data removed]"
     },
     "metadata": {}
    }
   ],
   "execution_count": 19
  },
  {
   "id": "c86f099354669d6",
   "cell_type": "markdown",
   "source": [
    "On s'aperçoit que notre modèle **apprend très vite** au **début** puisqu'il passe d'un/e training/val loss de 2.5 à ~0.7 au tout début de la première epoch. Par la suite, nous remarquons que nos deux loss continuent de baisser jusqu'au milieu de l'epoch 1 à 2. Cependant, nous remarquons que sur la fin, notre training loss continue de descendre et notre validation loss stagne, cela reflète un **over fitting** (assez léger dans notre cas).\n",
    "\n",
    "Nous pensons donc avoir mis des bons paramètres d'entrainement pour notre modèle.\n",
    "Vérifions cela dans la prochaine partie."
   ],
   "metadata": {
    "collapsed": false
   }
  },
  {
   "id": "9cdefc76ea25a18a",
   "cell_type": "markdown",
   "source": [
    "## 4 - *'Evaluation & Iterative Improvement'*"
   ],
   "metadata": {
    "collapsed": false
   }
  },
  {
   "id": "633f35b8b03215f6",
   "cell_type": "markdown",
   "source": [
    "Nous allons repasser en local (plus sur Kaggle) pour **évaluer** notre modèle grâce à la **perplexité** via **ollama -> llama3**."
   ],
   "metadata": {
    "collapsed": false
   }
  },
  {
   "id": "2cd469cbd1c0cd",
   "cell_type": "markdown",
   "source": [
    "#### Ici, nous allons recharger notre modèle avec les param d'entrainement enregistrés pour évaluer le modèle."
   ],
   "metadata": {
    "collapsed": false
   }
  },
  {
   "id": "b5c7f5316aa25c2c",
   "cell_type": "code",
   "source": [
    "import torch\n",
    "\n",
    "# Charger le modèle sauvegardé (sur plusieurs GPUs)\n",
    "ft_model = torch.load('ft-model.pth', map_location=\"cuda\")  # Charger sur un seul GPU\n",
    "\n",
    "# Si le modèle est encapsulé dans DataParallel, on retire l'encapsulation\n",
    "if isinstance(ft_model, torch.nn.DataParallel):\n",
    "    ft_model = ft_model.module  # Récupérer le modèle original\n",
    "\n",
    "device = torch.device(\"cuda\")\n",
    "ft_model.to(device)"
   ],
   "metadata": {
    "collapsed": false,
    "trusted": true,
    "execution": {
     "iopub.status.busy": "2025-02-17T19:49:03.086844Z",
     "iopub.execute_input": "2025-02-17T19:49:03.087543Z",
     "iopub.status.idle": "2025-02-17T19:49:04.043137Z",
     "shell.execute_reply.started": "2025-02-17T19:49:03.087516Z",
     "shell.execute_reply": "2025-02-17T19:49:04.042381Z"
    },
    "ExecuteTime": {
     "end_time": "2025-02-18T08:38:23.862372600Z",
     "start_time": "2025-02-18T08:38:17.500371100Z"
    }
   },
   "outputs": [
    {
     "name": "stderr",
     "output_type": "stream",
     "text": [
      "C:\\Users\\hugoc\\AppData\\Local\\Temp\\ipykernel_21904\\410182289.py:4: FutureWarning: You are using `torch.load` with `weights_only=False` (the current default value), which uses the default pickle module implicitly. It is possible to construct malicious pickle data which will execute arbitrary code during unpickling (See https://github.com/pytorch/pytorch/blob/main/SECURITY.md#untrusted-models for more details). In a future release, the default value for `weights_only` will be flipped to `True`. This limits the functions that could be executed during unpickling. Arbitrary objects will no longer be allowed to be loaded via this mode unless they are explicitly allowlisted by the user via `torch.serialization.add_safe_globals`. We recommend you start setting `weights_only=True` for any use case where you don't have full control of the loaded file. Please open an issue on GitHub for any issues related to this experimental feature.\n",
      "  ft_model = torch.load('ft-model.pth', map_location=\"cuda\")  # Charger sur un seul GPU\n"
     ]
    },
    {
     "data": {
      "text/plain": "GPTModel(\n  (tok_emb): Embedding(50257, 1024)\n  (pos_emb): Embedding(1024, 1024)\n  (drop_emb): Dropout(p=0.0, inplace=False)\n  (trf_blocks): Sequential(\n    (0): TransformerBlock(\n      (att): MultiHeadAttention(\n        (W_query): Linear(in_features=1024, out_features=1024, bias=True)\n        (W_key): Linear(in_features=1024, out_features=1024, bias=True)\n        (W_value): Linear(in_features=1024, out_features=1024, bias=True)\n        (out_proj): Linear(in_features=1024, out_features=1024, bias=True)\n        (dropout): Dropout(p=0.0, inplace=False)\n      )\n      (ff): FeedForward(\n        (layers): Sequential(\n          (0): Linear(in_features=1024, out_features=4096, bias=True)\n          (1): GELU()\n          (2): Linear(in_features=4096, out_features=1024, bias=True)\n        )\n      )\n      (norm1): LayerNorm()\n      (norm2): LayerNorm()\n      (drop_resid): Dropout(p=0.0, inplace=False)\n    )\n    (1): TransformerBlock(\n      (att): MultiHeadAttention(\n        (W_query): Linear(in_features=1024, out_features=1024, bias=True)\n        (W_key): Linear(in_features=1024, out_features=1024, bias=True)\n        (W_value): Linear(in_features=1024, out_features=1024, bias=True)\n        (out_proj): Linear(in_features=1024, out_features=1024, bias=True)\n        (dropout): Dropout(p=0.0, inplace=False)\n      )\n      (ff): FeedForward(\n        (layers): Sequential(\n          (0): Linear(in_features=1024, out_features=4096, bias=True)\n          (1): GELU()\n          (2): Linear(in_features=4096, out_features=1024, bias=True)\n        )\n      )\n      (norm1): LayerNorm()\n      (norm2): LayerNorm()\n      (drop_resid): Dropout(p=0.0, inplace=False)\n    )\n    (2): TransformerBlock(\n      (att): MultiHeadAttention(\n        (W_query): Linear(in_features=1024, out_features=1024, bias=True)\n        (W_key): Linear(in_features=1024, out_features=1024, bias=True)\n        (W_value): Linear(in_features=1024, out_features=1024, bias=True)\n        (out_proj): Linear(in_features=1024, out_features=1024, bias=True)\n        (dropout): Dropout(p=0.0, inplace=False)\n      )\n      (ff): FeedForward(\n        (layers): Sequential(\n          (0): Linear(in_features=1024, out_features=4096, bias=True)\n          (1): GELU()\n          (2): Linear(in_features=4096, out_features=1024, bias=True)\n        )\n      )\n      (norm1): LayerNorm()\n      (norm2): LayerNorm()\n      (drop_resid): Dropout(p=0.0, inplace=False)\n    )\n    (3): TransformerBlock(\n      (att): MultiHeadAttention(\n        (W_query): Linear(in_features=1024, out_features=1024, bias=True)\n        (W_key): Linear(in_features=1024, out_features=1024, bias=True)\n        (W_value): Linear(in_features=1024, out_features=1024, bias=True)\n        (out_proj): Linear(in_features=1024, out_features=1024, bias=True)\n        (dropout): Dropout(p=0.0, inplace=False)\n      )\n      (ff): FeedForward(\n        (layers): Sequential(\n          (0): Linear(in_features=1024, out_features=4096, bias=True)\n          (1): GELU()\n          (2): Linear(in_features=4096, out_features=1024, bias=True)\n        )\n      )\n      (norm1): LayerNorm()\n      (norm2): LayerNorm()\n      (drop_resid): Dropout(p=0.0, inplace=False)\n    )\n    (4): TransformerBlock(\n      (att): MultiHeadAttention(\n        (W_query): Linear(in_features=1024, out_features=1024, bias=True)\n        (W_key): Linear(in_features=1024, out_features=1024, bias=True)\n        (W_value): Linear(in_features=1024, out_features=1024, bias=True)\n        (out_proj): Linear(in_features=1024, out_features=1024, bias=True)\n        (dropout): Dropout(p=0.0, inplace=False)\n      )\n      (ff): FeedForward(\n        (layers): Sequential(\n          (0): Linear(in_features=1024, out_features=4096, bias=True)\n          (1): GELU()\n          (2): Linear(in_features=4096, out_features=1024, bias=True)\n        )\n      )\n      (norm1): LayerNorm()\n      (norm2): LayerNorm()\n      (drop_resid): Dropout(p=0.0, inplace=False)\n    )\n    (5): TransformerBlock(\n      (att): MultiHeadAttention(\n        (W_query): Linear(in_features=1024, out_features=1024, bias=True)\n        (W_key): Linear(in_features=1024, out_features=1024, bias=True)\n        (W_value): Linear(in_features=1024, out_features=1024, bias=True)\n        (out_proj): Linear(in_features=1024, out_features=1024, bias=True)\n        (dropout): Dropout(p=0.0, inplace=False)\n      )\n      (ff): FeedForward(\n        (layers): Sequential(\n          (0): Linear(in_features=1024, out_features=4096, bias=True)\n          (1): GELU()\n          (2): Linear(in_features=4096, out_features=1024, bias=True)\n        )\n      )\n      (norm1): LayerNorm()\n      (norm2): LayerNorm()\n      (drop_resid): Dropout(p=0.0, inplace=False)\n    )\n    (6): TransformerBlock(\n      (att): MultiHeadAttention(\n        (W_query): Linear(in_features=1024, out_features=1024, bias=True)\n        (W_key): Linear(in_features=1024, out_features=1024, bias=True)\n        (W_value): Linear(in_features=1024, out_features=1024, bias=True)\n        (out_proj): Linear(in_features=1024, out_features=1024, bias=True)\n        (dropout): Dropout(p=0.0, inplace=False)\n      )\n      (ff): FeedForward(\n        (layers): Sequential(\n          (0): Linear(in_features=1024, out_features=4096, bias=True)\n          (1): GELU()\n          (2): Linear(in_features=4096, out_features=1024, bias=True)\n        )\n      )\n      (norm1): LayerNorm()\n      (norm2): LayerNorm()\n      (drop_resid): Dropout(p=0.0, inplace=False)\n    )\n    (7): TransformerBlock(\n      (att): MultiHeadAttention(\n        (W_query): Linear(in_features=1024, out_features=1024, bias=True)\n        (W_key): Linear(in_features=1024, out_features=1024, bias=True)\n        (W_value): Linear(in_features=1024, out_features=1024, bias=True)\n        (out_proj): Linear(in_features=1024, out_features=1024, bias=True)\n        (dropout): Dropout(p=0.0, inplace=False)\n      )\n      (ff): FeedForward(\n        (layers): Sequential(\n          (0): Linear(in_features=1024, out_features=4096, bias=True)\n          (1): GELU()\n          (2): Linear(in_features=4096, out_features=1024, bias=True)\n        )\n      )\n      (norm1): LayerNorm()\n      (norm2): LayerNorm()\n      (drop_resid): Dropout(p=0.0, inplace=False)\n    )\n    (8): TransformerBlock(\n      (att): MultiHeadAttention(\n        (W_query): Linear(in_features=1024, out_features=1024, bias=True)\n        (W_key): Linear(in_features=1024, out_features=1024, bias=True)\n        (W_value): Linear(in_features=1024, out_features=1024, bias=True)\n        (out_proj): Linear(in_features=1024, out_features=1024, bias=True)\n        (dropout): Dropout(p=0.0, inplace=False)\n      )\n      (ff): FeedForward(\n        (layers): Sequential(\n          (0): Linear(in_features=1024, out_features=4096, bias=True)\n          (1): GELU()\n          (2): Linear(in_features=4096, out_features=1024, bias=True)\n        )\n      )\n      (norm1): LayerNorm()\n      (norm2): LayerNorm()\n      (drop_resid): Dropout(p=0.0, inplace=False)\n    )\n    (9): TransformerBlock(\n      (att): MultiHeadAttention(\n        (W_query): Linear(in_features=1024, out_features=1024, bias=True)\n        (W_key): Linear(in_features=1024, out_features=1024, bias=True)\n        (W_value): Linear(in_features=1024, out_features=1024, bias=True)\n        (out_proj): Linear(in_features=1024, out_features=1024, bias=True)\n        (dropout): Dropout(p=0.0, inplace=False)\n      )\n      (ff): FeedForward(\n        (layers): Sequential(\n          (0): Linear(in_features=1024, out_features=4096, bias=True)\n          (1): GELU()\n          (2): Linear(in_features=4096, out_features=1024, bias=True)\n        )\n      )\n      (norm1): LayerNorm()\n      (norm2): LayerNorm()\n      (drop_resid): Dropout(p=0.0, inplace=False)\n    )\n    (10): TransformerBlock(\n      (att): MultiHeadAttention(\n        (W_query): Linear(in_features=1024, out_features=1024, bias=True)\n        (W_key): Linear(in_features=1024, out_features=1024, bias=True)\n        (W_value): Linear(in_features=1024, out_features=1024, bias=True)\n        (out_proj): Linear(in_features=1024, out_features=1024, bias=True)\n        (dropout): Dropout(p=0.0, inplace=False)\n      )\n      (ff): FeedForward(\n        (layers): Sequential(\n          (0): Linear(in_features=1024, out_features=4096, bias=True)\n          (1): GELU()\n          (2): Linear(in_features=4096, out_features=1024, bias=True)\n        )\n      )\n      (norm1): LayerNorm()\n      (norm2): LayerNorm()\n      (drop_resid): Dropout(p=0.0, inplace=False)\n    )\n    (11): TransformerBlock(\n      (att): MultiHeadAttention(\n        (W_query): Linear(in_features=1024, out_features=1024, bias=True)\n        (W_key): Linear(in_features=1024, out_features=1024, bias=True)\n        (W_value): Linear(in_features=1024, out_features=1024, bias=True)\n        (out_proj): Linear(in_features=1024, out_features=1024, bias=True)\n        (dropout): Dropout(p=0.0, inplace=False)\n      )\n      (ff): FeedForward(\n        (layers): Sequential(\n          (0): Linear(in_features=1024, out_features=4096, bias=True)\n          (1): GELU()\n          (2): Linear(in_features=4096, out_features=1024, bias=True)\n        )\n      )\n      (norm1): LayerNorm()\n      (norm2): LayerNorm()\n      (drop_resid): Dropout(p=0.0, inplace=False)\n    )\n    (12): TransformerBlock(\n      (att): MultiHeadAttention(\n        (W_query): Linear(in_features=1024, out_features=1024, bias=True)\n        (W_key): Linear(in_features=1024, out_features=1024, bias=True)\n        (W_value): Linear(in_features=1024, out_features=1024, bias=True)\n        (out_proj): Linear(in_features=1024, out_features=1024, bias=True)\n        (dropout): Dropout(p=0.0, inplace=False)\n      )\n      (ff): FeedForward(\n        (layers): Sequential(\n          (0): Linear(in_features=1024, out_features=4096, bias=True)\n          (1): GELU()\n          (2): Linear(in_features=4096, out_features=1024, bias=True)\n        )\n      )\n      (norm1): LayerNorm()\n      (norm2): LayerNorm()\n      (drop_resid): Dropout(p=0.0, inplace=False)\n    )\n    (13): TransformerBlock(\n      (att): MultiHeadAttention(\n        (W_query): Linear(in_features=1024, out_features=1024, bias=True)\n        (W_key): Linear(in_features=1024, out_features=1024, bias=True)\n        (W_value): Linear(in_features=1024, out_features=1024, bias=True)\n        (out_proj): Linear(in_features=1024, out_features=1024, bias=True)\n        (dropout): Dropout(p=0.0, inplace=False)\n      )\n      (ff): FeedForward(\n        (layers): Sequential(\n          (0): Linear(in_features=1024, out_features=4096, bias=True)\n          (1): GELU()\n          (2): Linear(in_features=4096, out_features=1024, bias=True)\n        )\n      )\n      (norm1): LayerNorm()\n      (norm2): LayerNorm()\n      (drop_resid): Dropout(p=0.0, inplace=False)\n    )\n    (14): TransformerBlock(\n      (att): MultiHeadAttention(\n        (W_query): Linear(in_features=1024, out_features=1024, bias=True)\n        (W_key): Linear(in_features=1024, out_features=1024, bias=True)\n        (W_value): Linear(in_features=1024, out_features=1024, bias=True)\n        (out_proj): Linear(in_features=1024, out_features=1024, bias=True)\n        (dropout): Dropout(p=0.0, inplace=False)\n      )\n      (ff): FeedForward(\n        (layers): Sequential(\n          (0): Linear(in_features=1024, out_features=4096, bias=True)\n          (1): GELU()\n          (2): Linear(in_features=4096, out_features=1024, bias=True)\n        )\n      )\n      (norm1): LayerNorm()\n      (norm2): LayerNorm()\n      (drop_resid): Dropout(p=0.0, inplace=False)\n    )\n    (15): TransformerBlock(\n      (att): MultiHeadAttention(\n        (W_query): Linear(in_features=1024, out_features=1024, bias=True)\n        (W_key): Linear(in_features=1024, out_features=1024, bias=True)\n        (W_value): Linear(in_features=1024, out_features=1024, bias=True)\n        (out_proj): Linear(in_features=1024, out_features=1024, bias=True)\n        (dropout): Dropout(p=0.0, inplace=False)\n      )\n      (ff): FeedForward(\n        (layers): Sequential(\n          (0): Linear(in_features=1024, out_features=4096, bias=True)\n          (1): GELU()\n          (2): Linear(in_features=4096, out_features=1024, bias=True)\n        )\n      )\n      (norm1): LayerNorm()\n      (norm2): LayerNorm()\n      (drop_resid): Dropout(p=0.0, inplace=False)\n    )\n    (16): TransformerBlock(\n      (att): MultiHeadAttention(\n        (W_query): Linear(in_features=1024, out_features=1024, bias=True)\n        (W_key): Linear(in_features=1024, out_features=1024, bias=True)\n        (W_value): Linear(in_features=1024, out_features=1024, bias=True)\n        (out_proj): Linear(in_features=1024, out_features=1024, bias=True)\n        (dropout): Dropout(p=0.0, inplace=False)\n      )\n      (ff): FeedForward(\n        (layers): Sequential(\n          (0): Linear(in_features=1024, out_features=4096, bias=True)\n          (1): GELU()\n          (2): Linear(in_features=4096, out_features=1024, bias=True)\n        )\n      )\n      (norm1): LayerNorm()\n      (norm2): LayerNorm()\n      (drop_resid): Dropout(p=0.0, inplace=False)\n    )\n    (17): TransformerBlock(\n      (att): MultiHeadAttention(\n        (W_query): Linear(in_features=1024, out_features=1024, bias=True)\n        (W_key): Linear(in_features=1024, out_features=1024, bias=True)\n        (W_value): Linear(in_features=1024, out_features=1024, bias=True)\n        (out_proj): Linear(in_features=1024, out_features=1024, bias=True)\n        (dropout): Dropout(p=0.0, inplace=False)\n      )\n      (ff): FeedForward(\n        (layers): Sequential(\n          (0): Linear(in_features=1024, out_features=4096, bias=True)\n          (1): GELU()\n          (2): Linear(in_features=4096, out_features=1024, bias=True)\n        )\n      )\n      (norm1): LayerNorm()\n      (norm2): LayerNorm()\n      (drop_resid): Dropout(p=0.0, inplace=False)\n    )\n    (18): TransformerBlock(\n      (att): MultiHeadAttention(\n        (W_query): Linear(in_features=1024, out_features=1024, bias=True)\n        (W_key): Linear(in_features=1024, out_features=1024, bias=True)\n        (W_value): Linear(in_features=1024, out_features=1024, bias=True)\n        (out_proj): Linear(in_features=1024, out_features=1024, bias=True)\n        (dropout): Dropout(p=0.0, inplace=False)\n      )\n      (ff): FeedForward(\n        (layers): Sequential(\n          (0): Linear(in_features=1024, out_features=4096, bias=True)\n          (1): GELU()\n          (2): Linear(in_features=4096, out_features=1024, bias=True)\n        )\n      )\n      (norm1): LayerNorm()\n      (norm2): LayerNorm()\n      (drop_resid): Dropout(p=0.0, inplace=False)\n    )\n    (19): TransformerBlock(\n      (att): MultiHeadAttention(\n        (W_query): Linear(in_features=1024, out_features=1024, bias=True)\n        (W_key): Linear(in_features=1024, out_features=1024, bias=True)\n        (W_value): Linear(in_features=1024, out_features=1024, bias=True)\n        (out_proj): Linear(in_features=1024, out_features=1024, bias=True)\n        (dropout): Dropout(p=0.0, inplace=False)\n      )\n      (ff): FeedForward(\n        (layers): Sequential(\n          (0): Linear(in_features=1024, out_features=4096, bias=True)\n          (1): GELU()\n          (2): Linear(in_features=4096, out_features=1024, bias=True)\n        )\n      )\n      (norm1): LayerNorm()\n      (norm2): LayerNorm()\n      (drop_resid): Dropout(p=0.0, inplace=False)\n    )\n    (20): TransformerBlock(\n      (att): MultiHeadAttention(\n        (W_query): Linear(in_features=1024, out_features=1024, bias=True)\n        (W_key): Linear(in_features=1024, out_features=1024, bias=True)\n        (W_value): Linear(in_features=1024, out_features=1024, bias=True)\n        (out_proj): Linear(in_features=1024, out_features=1024, bias=True)\n        (dropout): Dropout(p=0.0, inplace=False)\n      )\n      (ff): FeedForward(\n        (layers): Sequential(\n          (0): Linear(in_features=1024, out_features=4096, bias=True)\n          (1): GELU()\n          (2): Linear(in_features=4096, out_features=1024, bias=True)\n        )\n      )\n      (norm1): LayerNorm()\n      (norm2): LayerNorm()\n      (drop_resid): Dropout(p=0.0, inplace=False)\n    )\n    (21): TransformerBlock(\n      (att): MultiHeadAttention(\n        (W_query): Linear(in_features=1024, out_features=1024, bias=True)\n        (W_key): Linear(in_features=1024, out_features=1024, bias=True)\n        (W_value): Linear(in_features=1024, out_features=1024, bias=True)\n        (out_proj): Linear(in_features=1024, out_features=1024, bias=True)\n        (dropout): Dropout(p=0.0, inplace=False)\n      )\n      (ff): FeedForward(\n        (layers): Sequential(\n          (0): Linear(in_features=1024, out_features=4096, bias=True)\n          (1): GELU()\n          (2): Linear(in_features=4096, out_features=1024, bias=True)\n        )\n      )\n      (norm1): LayerNorm()\n      (norm2): LayerNorm()\n      (drop_resid): Dropout(p=0.0, inplace=False)\n    )\n    (22): TransformerBlock(\n      (att): MultiHeadAttention(\n        (W_query): Linear(in_features=1024, out_features=1024, bias=True)\n        (W_key): Linear(in_features=1024, out_features=1024, bias=True)\n        (W_value): Linear(in_features=1024, out_features=1024, bias=True)\n        (out_proj): Linear(in_features=1024, out_features=1024, bias=True)\n        (dropout): Dropout(p=0.0, inplace=False)\n      )\n      (ff): FeedForward(\n        (layers): Sequential(\n          (0): Linear(in_features=1024, out_features=4096, bias=True)\n          (1): GELU()\n          (2): Linear(in_features=4096, out_features=1024, bias=True)\n        )\n      )\n      (norm1): LayerNorm()\n      (norm2): LayerNorm()\n      (drop_resid): Dropout(p=0.0, inplace=False)\n    )\n    (23): TransformerBlock(\n      (att): MultiHeadAttention(\n        (W_query): Linear(in_features=1024, out_features=1024, bias=True)\n        (W_key): Linear(in_features=1024, out_features=1024, bias=True)\n        (W_value): Linear(in_features=1024, out_features=1024, bias=True)\n        (out_proj): Linear(in_features=1024, out_features=1024, bias=True)\n        (dropout): Dropout(p=0.0, inplace=False)\n      )\n      (ff): FeedForward(\n        (layers): Sequential(\n          (0): Linear(in_features=1024, out_features=4096, bias=True)\n          (1): GELU()\n          (2): Linear(in_features=4096, out_features=1024, bias=True)\n        )\n      )\n      (norm1): LayerNorm()\n      (norm2): LayerNorm()\n      (drop_resid): Dropout(p=0.0, inplace=False)\n    )\n  )\n  (final_norm): LayerNorm()\n  (out_head): Linear(in_features=1024, out_features=50257, bias=False)\n)"
     },
     "execution_count": 8,
     "metadata": {},
     "output_type": "execute_result"
    }
   ],
   "execution_count": 8
  },
  {
   "id": "c89cb2406b566428",
   "cell_type": "code",
   "source": [
    "import tiktoken\n",
    "\n",
    "tokenizer = tiktoken.get_encoding(\"gpt2\")"
   ],
   "metadata": {
    "collapsed": false,
    "trusted": true,
    "execution": {
     "iopub.status.busy": "2025-02-17T19:49:04.043870Z",
     "iopub.execute_input": "2025-02-17T19:49:04.044079Z",
     "iopub.status.idle": "2025-02-17T19:49:04.047390Z",
     "shell.execute_reply.started": "2025-02-17T19:49:04.044061Z",
     "shell.execute_reply": "2025-02-17T19:49:04.046804Z"
    },
    "ExecuteTime": {
     "end_time": "2025-02-18T08:38:28.776888800Z",
     "start_time": "2025-02-18T08:38:28.496654900Z"
    }
   },
   "outputs": [],
   "execution_count": 9
  },
  {
   "cell_type": "markdown",
   "source": [
    "Nous avons écrit un **code python** permettant d'utiliser notre modèle via un **CLI**. Nous avons également écrit une fonction pour **traduire** un texte **anglais** en **français** à l'aide de notre modèle. Vérifions que notre modèle fonctionne avant de calculer sa perplexité."
   ],
   "metadata": {
    "collapsed": false
   },
   "id": "8856935552272590"
  },
  {
   "id": "f201a3a8b5e1ea00",
   "cell_type": "code",
   "source": [
    "from translate import translate\n",
    "\n",
    "torch.manual_seed(123)\n",
    "\n",
    "text_to_translate = \"i need a backpack\"\n",
    "\n",
    "translation = translate(text_to_translate, ft_model, tokenizer)\n",
    "print(f\"Traduction : {translation}\\n\")"
   ],
   "metadata": {
    "collapsed": false,
    "trusted": true,
    "execution": {
     "iopub.status.busy": "2025-02-17T19:49:04.048096Z",
     "iopub.execute_input": "2025-02-17T19:49:04.048276Z",
     "iopub.status.idle": "2025-02-17T19:49:22.672967Z",
     "shell.execute_reply.started": "2025-02-17T19:49:04.048260Z",
     "shell.execute_reply": "2025-02-17T19:49:22.672054Z"
    },
    "ExecuteTime": {
     "end_time": "2025-02-18T08:38:34.828321300Z",
     "start_time": "2025-02-18T08:38:33.075321400Z"
    }
   },
   "outputs": [
    {
     "name": "stdout",
     "output_type": "stream",
     "text": [
      "Traduction : J'ai besoin d'un sac à dos.\n"
     ]
    }
   ],
   "execution_count": 10
  },
  {
   "cell_type": "markdown",
   "source": [
    "**Faisons** toutes les **traductions** par notre modèle pour le **set de test** et **enregistrons** tout cela dans un **json** afin de pouvoir calculer la **perplexité** avec **ollama**."
   ],
   "metadata": {
    "collapsed": false
   },
   "id": "20fff2546fe31c22"
  },
  {
   "cell_type": "code",
   "outputs": [
    {
     "name": "stdout",
     "output_type": "stream",
     "text": [
      "{'English words/sentences': ['Tom hid behind a tree.', \"Don't they drive you mad?\"], 'French words/sentences': ['Tom se cacha derrière un arbre.', 'Ne vous font-elles pas tourner bourriques ?']}\n"
     ]
    }
   ],
   "source": [
    "print(test_data[:2])"
   ],
   "metadata": {
    "collapsed": false,
    "ExecuteTime": {
     "end_time": "2025-02-18T12:50:47.751816800Z",
     "start_time": "2025-02-18T12:50:47.597555100Z"
    }
   },
   "id": "73b3e64c24e82b09",
   "execution_count": 24
  },
  {
   "cell_type": "code",
   "outputs": [],
   "source": [
    "test = [\n",
    "    {'English words/sentences': eng, 'French words/sentences': fr} \n",
    "    for eng, fr \n",
    "    in zip(test_data['English words/sentences'], test_data['French words/sentences'])\n",
    "]"
   ],
   "metadata": {
    "collapsed": false,
    "ExecuteTime": {
     "end_time": "2025-02-18T13:02:35.244983700Z",
     "start_time": "2025-02-18T13:02:34.794757Z"
    }
   },
   "id": "ca895b9de2beb33b",
   "execution_count": 43
  },
  {
   "cell_type": "code",
   "outputs": [
    {
     "name": "stdout",
     "output_type": "stream",
     "text": [
      "[{'English words/sentences': 'Tom hid behind a tree.', 'French words/sentences': 'Tom se cacha derrière un arbre.'}, {'English words/sentences': \"Don't they drive you mad?\", 'French words/sentences': 'Ne vous font-elles pas tourner bourriques ?'}]\n",
      "17563\n"
     ]
    }
   ],
   "source": [
    "print(test[:2])\n",
    "print(test.__len__())"
   ],
   "metadata": {
    "collapsed": false,
    "ExecuteTime": {
     "end_time": "2025-02-18T13:02:36.975991400Z",
     "start_time": "2025-02-18T13:02:36.921354800Z"
    }
   },
   "id": "67c35cce124650d4",
   "execution_count": 44
  },
  {
   "id": "9cdb689b38bea5e3",
   "cell_type": "code",
   "source": [
    "from tqdm import tqdm\n",
    "import json\n",
    "\n",
    "column_translated = []\n",
    "\n",
    "for i, entry in tqdm(enumerate(test), total=len(test)):\n",
    "    translation = translate(test[i]['English words/sentences'], ft_model, tokenizer)\n",
    "    test[i][\"model_response\"] = translation"
   ],
   "metadata": {
    "collapsed": false,
    "trusted": true,
    "execution": {
     "iopub.status.busy": "2025-02-17T19:49:22.673952Z",
     "iopub.execute_input": "2025-02-17T19:49:22.674282Z",
     "iopub.status.idle": "2025-02-17T19:49:22.726596Z",
     "shell.execute_reply.started": "2025-02-17T19:49:22.674247Z",
     "shell.execute_reply": "2025-02-17T19:49:22.725360Z"
    },
    "ExecuteTime": {
     "end_time": "2025-02-18T17:00:52.198886400Z",
     "start_time": "2025-02-18T13:02:55.353334800Z"
    }
   },
   "outputs": [
    {
     "name": "stderr",
     "output_type": "stream",
     "text": [
      "100%|██████████| 17563/17563 [3:57:56<00:00,  1.23it/s]  \n"
     ]
    }
   ],
   "execution_count": 45
  },
  {
   "cell_type": "code",
   "outputs": [],
   "source": [
    "with open(\"translate.json\", \"w\", encoding='utf-8') as file:\n",
    "    json.dump(test, file, indent=4, ensure_ascii=False)  # \"indent\" for pretty-printing"
   ],
   "metadata": {
    "collapsed": false,
    "ExecuteTime": {
     "end_time": "2025-02-18T17:00:52.351302200Z",
     "start_time": "2025-02-18T17:00:52.199887900Z"
    }
   },
   "id": "26651b0308f8fa80",
   "execution_count": 46
  },
  {
   "cell_type": "markdown",
   "source": [
    "Nous avons dans un premier temps, installé **ollama** sur notre machine (en local) et avons forcé l'utilisation sur le **GPU** grâce au **panneau de configuration NVIDIA**.\n",
    "Nous devons vérifier qu'il tourne pour pouvoir faire des appels dessus via notre code python."
   ],
   "metadata": {
    "collapsed": false
   },
   "id": "73adaec07225b4fb"
  },
  {
   "id": "9b4dd77a0f78f1fe",
   "cell_type": "code",
   "source": [
    "from ollama_evaluate import check_if_running, generate_model_scores\n",
    "\n",
    "\n",
    "ollama_running = check_if_running(\"ollama\")\n",
    "\n",
    "if not ollama_running:\n",
    "    raise RuntimeError(\"Ollama not running. Launch ollama before proceeding.\")\n",
    "print(\"Ollama running:\", check_if_running(\"ollama\"))"
   ],
   "metadata": {
    "collapsed": false,
    "trusted": true,
    "execution": {
     "iopub.status.busy": "2025-02-17T19:49:22.727082Z",
     "iopub.status.idle": "2025-02-17T19:49:22.727376Z",
     "shell.execute_reply": "2025-02-17T19:49:22.727268Z"
    },
    "ExecuteTime": {
     "end_time": "2025-02-18T20:01:47.242369200Z",
     "start_time": "2025-02-18T20:01:47.068186400Z"
    }
   },
   "outputs": [
    {
     "name": "stdout",
     "output_type": "stream",
     "text": [
      "Ollama running: True\n"
     ]
    }
   ],
   "execution_count": 48
  },
  {
   "cell_type": "markdown",
   "source": [
    "Maintenant que tout cela est fait, nous devons faire des appels sur ollama pour toutes les lignes de notre fichier. Nous obtiendrons un **score** sur une échelle de **0 à 100** avec 100 une réponse parfaite. Ollama donnera une note qui n'est pas basée que sur la correspondance des mots, puisque par exemple, si nous avons la traduction attendue 'Il fait très chaud aujourd'hui.' et que notre modèle traduit 'Aujourd’hui, il fait une chaleur intense.' cela demeure correct."
   ],
   "metadata": {
    "collapsed": false
   },
   "id": "5f667b2e7ae6ce8d"
  },
  {
   "cell_type": "code",
   "outputs": [
    {
     "name": "stderr",
     "output_type": "stream",
     "text": [
      "Scoring entries: 100%|██████████| 17563/17563 [13:58:32<00:00,  2.86s/it]  "
     ]
    },
    {
     "name": "stdout",
     "output_type": "stream",
     "text": [
      "Number of scores: 17563 of 17563\n",
      "Average score: 75.90\n"
     ]
    },
    {
     "name": "stderr",
     "output_type": "stream",
     "text": [
      "\n"
     ]
    }
   ],
   "source": [
    "file_path = 'translate.json'\n",
    "\n",
    "with open(file_path, \"r\") as file:\n",
    "    json_data = json.load(file)\n",
    "\n",
    "model = \"llama3\"\n",
    "scores = generate_model_scores(json_data, \"model_response\", model)\n",
    "print(f\"Number of scores: {len(scores)} of {len(test_data)}\")\n",
    "print(f\"Average score: {sum(scores)/len(scores):.2f}\\n\")"
   ],
   "metadata": {
    "collapsed": false,
    "ExecuteTime": {
     "end_time": "2025-02-20T19:44:00.540567700Z",
     "start_time": "2025-02-20T05:45:28.067825Z"
    }
   },
   "id": "ad9715c14257b98f",
   "execution_count": 52
  },
  {
   "cell_type": "markdown",
   "source": [
    "Nous obtenons un **score moyen** de **75.9**. \n",
    "\n",
    "Nous pensons que cela reflète un **excellent fine-tuning** puisque nous partons d'un modèle (**gpt2 M**) qui n'est **pas très performant de base**. Il n'y a que 355M de paramètres, ce qui fait que notre LLM peut avoir du mal à comprendre et interpréter, surtout que gpt2 n'a **pas** été **entrainé** sur du **français**. Ce score reflète globalement une bonne, voire une très bonne traduction. \n",
    "\n",
    "De ce que nous avons vu (nous l'avons testé via notre session CLI), le modèle fait très souvent des très bonnes traductions, parfois des traductions compréhensibles, mais avec des petites erreurs (e.g. il traduit 'what time is it ?' en 'A quelle heure il est ?' Cela est suffisant pour que nous le comprenions, mais n'est pas totalement juste. Et parfois, il n'arrive pas à traduire, si on lui met un mot inconnu par exemple, comme le prénom hugo ou titouan, vu que sur notre fonction generate, nous avons mis un petit topk (5) et une petite température (0.2), le modèle répond avec des mots dont la probabilité est importante.\n",
    "\n",
    "\n",
    "Nous sommes globalement très satisfait de nos traductions réalisées via la LLM et nous vous invitons à regarder rapidement quelques lignes du fichier 'translate.json' pour voir les traductions sur notre ensemble de test.\n",
    "Nous pensons que notre fine-tuning est suffisamment performant et ne nécessite pas d'être refait. Nous pourrions cependant chercher des paramètres plus 'optimaux' pour notre fonction generate (qui est dans translate).\n",
    "\n",
    "Pour véritablement améliorer nos traductions, il faudrait surtout prendre un modèle de base plus performant."
   ],
   "metadata": {
    "collapsed": false
   },
   "id": "ffc73eeacfa5baa8"
  },
  {
   "cell_type": "markdown",
   "source": [
    "## 5 - *'Deployment & Final Presentation'*"
   ],
   "metadata": {
    "collapsed": false
   },
   "id": "1487e29d7c200407"
  },
  {
   "cell_type": "markdown",
   "source": [
    "Comme nous l'avons dit auparavant, nous avons wrappé notre modèle pour l'utiliser dans une **session CLI**. Tout cela est disponible dans le fichier **'translate.py'**. Pour démarrer la session, ouvrez un terminal, rejoignez le dossier où se trouve le fichier et entrez : *python translate.py*. Cela ouvrira une 'session' que vous pourrez quitter via l'entrée d'*exit* ou de *quit*. Pour traduire, il suffira d'entrer le texte, par exemple : i need a backpack. Vous verrez la traduction juste en dessous (voir ci-dessous)."
   ],
   "metadata": {
    "collapsed": false
   },
   "id": "f9a068e4924c1e64"
  },
  {
   "cell_type": "markdown",
   "source": [
    "![CLI image](CLI.png)"
   ],
   "metadata": {
    "collapsed": false
   },
   "id": "55dd1df324c9bcce"
  },
  {
   "cell_type": "markdown",
   "source": [
    "Une vidéo de présentation des performances de notre modèle via ce script CLI a été réalisée et vous a été transmise."
   ],
   "metadata": {
    "collapsed": false
   },
   "id": "a59bdd3335392e9b"
  },
  {
   "cell_type": "markdown",
   "source": [
    "Nous n'avons pas eu de difficulté de compréhension pour ce projet, cependant, il a été compliqué de faire tourner tous nos codes puisqu'ils prenaient du temps à compiler (bien que cela soit normal pour des LLM), notamment pour ollama, le code a pris 14h à tourner et nous avons dû le faire tourner plusieurs fois pour obtenir un résultat (pc qui surchauffe, etc).\n",
    "\n",
    "Pour toutes autres questions n'hésitez pas à nous contacter sur nos mails étudiants ESIEE Paris."
   ],
   "metadata": {
    "collapsed": false
   },
   "id": "ea24745204a5a6d9"
  },
  {
   "cell_type": "markdown",
   "source": [
    "Merci pour votre lecture,\n",
    "Titouan et Hugo."
   ],
   "metadata": {
    "collapsed": false
   },
   "id": "ef5415b4f6691dcc"
  }
 ]
}
